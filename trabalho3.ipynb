{
  "nbformat": 4,
  "nbformat_minor": 0,
  "metadata": {
    "colab": {
      "name": "trabalho3.ipynb",
      "provenance": []
    },
    "kernelspec": {
      "name": "python3",
      "display_name": "Python 3"
    },
    "language_info": {
      "name": "python"
    }
  },
  "cells": [
    {
      "cell_type": "markdown",
      "metadata": {
        "id": "M75LRzmXGT2T"
      },
      "source": [
        "Importando uma biblioteca necessária e definindo uma função para calcular a transposta de uma matriz que precisarei no decorrer da questão."
      ]
    },
    {
      "cell_type": "code",
      "metadata": {
        "id": "0cVOn1O09XZe"
      },
      "source": [
        "import numpy as np\n",
        "\n",
        "def transposta(A):\n",
        "    n = len(A)\n",
        "    for i in range(n):\n",
        "        for j in range(0,i):\n",
        "            aux = A[i,j]\n",
        "            A[i,j] = A[j,i]\n",
        "            A[j,i] = aux\n",
        "    return A"
      ],
      "execution_count": 2,
      "outputs": []
    },
    {
      "cell_type": "markdown",
      "metadata": {
        "id": "F_zxVnMc9dVP"
      },
      "source": [
        "**1)** Implemente o algoritmo para realizar a decomposição LU sem pivotamento, e desenvolva uma forma de calcular a inversa de uma matriz \n",
        "\n",
        "**A** $\\in \\mathbb{R}^{nxn}$. Para isto faça:"
      ]
    },
    {
      "cell_type": "markdown",
      "metadata": {
        "id": "3AtwgM2-97hf"
      },
      "source": [
        "**a)** Implemente uma função que receba como parâmetro uma\n",
        "matriz **A** $\\in \\mathbb{R}^{nxn}$ e retorne sua decomposição em **L** $\\in \\mathbb{R}^{nxn}$ e\n",
        "**U** $\\in \\mathbb{R}^{nxn}$."
      ]
    },
    {
      "cell_type": "code",
      "metadata": {
        "id": "QFxWaB8j99Si"
      },
      "source": [
        "def decomposicaoLU(A):\n",
        "    n = len(A)\n",
        "    L = np.zeros((n,n))\n",
        "    U = np.zeros((n,n))\n",
        "    \n",
        "    for i in range(0,n):\n",
        "        for j in range(i,n):\n",
        "            s=0\n",
        "            k=0\n",
        "            while k<=i:\n",
        "                s+=L[i,k]*U[k,j]\n",
        "                k+=1\n",
        "            U[i,j]=A[i,j]-s\n",
        "        L[i,i]=1\n",
        "        for j in range(i+1,n):\n",
        "            s=0\n",
        "            k=0\n",
        "            while k<=i:\n",
        "                s+=L[j,k]*U[k,i]\n",
        "                k+=1\n",
        "            L[j,i]=(A[j,i]-s)/U[i,i]\n",
        "    return L,U"
      ],
      "execution_count": 3,
      "outputs": []
    },
    {
      "cell_type": "markdown",
      "metadata": {
        "id": "HY-5mRf599qW"
      },
      "source": [
        "**b)** Implemente uma função que receba como parâmetro uma\n",
        "matriz triangular inferior **L** $\\in \\mathbb{R}^{nxn}$, e um vetor **b** $\\in \\mathbb{R}^{n}$ e\n",
        "retorne o vetor solução **x** $\\in \\mathbb{R}^{n}$ através da técnica de\n",
        "**substituição**."
      ]
    },
    {
      "cell_type": "code",
      "metadata": {
        "id": "DAxBlWV-999e"
      },
      "source": [
        "def substituicao(L, b):\n",
        "    n = len(b)\n",
        "    x = np.ones((n,1))\n",
        "    x[0]=b[0]/L[0,0]\n",
        "    for i in range(1,n):\n",
        "        s = b[i]\n",
        "        for j in range(0,i):\n",
        "            s = s - L[i,j]*x[j]\n",
        "        x[i] = s/L[i,i]\n",
        "    return x"
      ],
      "execution_count": 4,
      "outputs": []
    },
    {
      "cell_type": "markdown",
      "metadata": {
        "id": "hEGeV2Yy9-Xv"
      },
      "source": [
        "**c)** Implemente uma função que receba como parâmetro uma\n",
        "matriz triangular superior **U** $\\in \\mathbb{R}^{nxn}$, e um vetor **b** $\\in \\mathbb{R}^{n}$ e\n",
        "retorne o vetor solução **x** $\\in \\mathbb{R}^{n}$ através da técnica de\n",
        "**retro-substituição**."
      ]
    },
    {
      "cell_type": "code",
      "metadata": {
        "id": "l58vFkCQ9-tO"
      },
      "source": [
        "def retro_substituicao(U, b):\n",
        "    n = len(b)\n",
        "    x = np.ones((n,1))\n",
        "    x[n-1]=b[n-1]/U[n-1,n-1]\n",
        "    for i in range(n-2,-1,-1):\n",
        "        s = b[i]\n",
        "        for j in range(i+1,n):\n",
        "            s = s - U[i,j]*x[j]\n",
        "        x[i] = s/U[i,i]\n",
        "    return x"
      ],
      "execution_count": 5,
      "outputs": []
    },
    {
      "cell_type": "markdown",
      "metadata": {
        "id": "V2g0M6yc9-_-"
      },
      "source": [
        "**d)** Utilizando as funções implementadas anteriormente,\n",
        "implemente uma função que encontre e retorne a inversa de uma matriz **A** $\\in \\mathbb{R}^{nxn}$."
      ]
    },
    {
      "cell_type": "code",
      "metadata": {
        "id": "a5idpRwe9_TW"
      },
      "source": [
        "def inversa(A):\n",
        "    n = len(A)\n",
        "    L,U=decomposicaoLU(A)\n",
        "    I = np.eye(n)\n",
        "    y = []\n",
        "    x = []\n",
        "    for i in range(n):\n",
        "        y.append(substituicao(L,I[i]))\n",
        "        x.append(retro_substituicao(U,y[i]))\n",
        "    x = np.array(x)\n",
        "    x = np.matrix(x)\n",
        "    x = transposta(x)\n",
        "    return x"
      ],
      "execution_count": 6,
      "outputs": []
    },
    {
      "cell_type": "markdown",
      "metadata": {
        "id": "MDIeYDTE-CBO"
      },
      "source": [
        "**e)** Teste sua função na seguinte matriz:\n",
        "\n",
        "$ \\begin{bmatrix}\n",
        "1 & 2 & 3 & 4 & 5 & 6 \\\\\n",
        "2 & 6 & 9 & 12 & 15 & 18 \\\\\n",
        "3 & 10 & 18 & 24 & 30 & 36 \\\\\n",
        "4 & 14 & 27 & 40 & 50 & 60 \\\\\n",
        "5 & 18 & 36 & 56 & 75 & 90 \\\\\n",
        "6 & 22 & 45 & 72 & 100 & 126 \n",
        "\\end{bmatrix}  $"
      ]
    },
    {
      "cell_type": "code",
      "metadata": {
        "colab": {
          "base_uri": "https://localhost:8080/"
        },
        "id": "Yj4vaf-A-CU2",
        "outputId": "927b1ac1-96d3-4ca7-a0dc-814c405ae310"
      },
      "source": [
        "A = np.matrix('1 2 3 4 5 6; 2 6 9 12 15 18; 3 10 18 24 30 36; 4 14 27 40 50 60; 5 18 36 56 75 90; 6 22 45 72 100 126')\n",
        "invA = inversa(A)\n",
        "print(invA)"
      ],
      "execution_count": 7,
      "outputs": [
        {
          "output_type": "stream",
          "text": [
            "[[ 3.         -1.          0.          0.          0.          0.        ]\n",
            " [-1.5         1.5        -0.5         0.          0.          0.        ]\n",
            " [ 0.33333333 -1.          1.         -0.33333333  0.          0.        ]\n",
            " [ 0.          0.25       -0.75        0.75       -0.25        0.        ]\n",
            " [ 0.          0.          0.2        -0.6         0.6        -0.2       ]\n",
            " [ 0.          0.          0.          0.16666667 -0.33333333  0.16666667]]\n"
          ],
          "name": "stdout"
        }
      ]
    }
  ]
}