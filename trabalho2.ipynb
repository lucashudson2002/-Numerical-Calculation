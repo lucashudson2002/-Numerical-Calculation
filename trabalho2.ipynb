{
  "nbformat": 4,
  "nbformat_minor": 0,
  "metadata": {
    "colab": {
      "name": "trabalho2.ipynb",
      "provenance": []
    },
    "kernelspec": {
      "name": "python3",
      "display_name": "Python 3"
    },
    "language_info": {
      "name": "python"
    }
  },
  "cells": [
    {
      "cell_type": "markdown",
      "metadata": {
        "id": "HOxUx2I5aavr"
      },
      "source": [
        "Apenas importando as bibliotecas que serão necessárias:\n"
      ]
    },
    {
      "cell_type": "code",
      "metadata": {
        "id": "D9VAUJ9QaOj-"
      },
      "source": [
        "import numpy as np\n",
        "import matplotlib.pyplot as plt"
      ],
      "execution_count": 1,
      "outputs": []
    },
    {
      "cell_type": "markdown",
      "metadata": {
        "id": "7Bb4DPAOaSEZ"
      },
      "source": [
        "**1)** Encontre a raiz de f(x) = $x^3$ + cos(x) tomando um erro $|f(x_k)|$ < 0.000001, ou seja *e* = $10^{-6}$. Aproxime, a cada iteração, os resultados para 8 dígitos significativos:"
      ]
    },
    {
      "cell_type": "markdown",
      "metadata": {
        "id": "znoXbKgYbPRW"
      },
      "source": [
        "A função:"
      ]
    },
    {
      "cell_type": "code",
      "metadata": {
        "id": "Gj0uwQcWbR4O"
      },
      "source": [
        "def f1(x):\n",
        "    return x**3 + np.cos(x)"
      ],
      "execution_count": 2,
      "outputs": []
    },
    {
      "cell_type": "markdown",
      "metadata": {
        "id": "lZ2g3ACWbaSO"
      },
      "source": [
        "**a)** Obtenha, graficamente, o intervalo [a, b] onde se encontra a\n",
        "raiz."
      ]
    },
    {
      "cell_type": "code",
      "metadata": {
        "colab": {
          "base_uri": "https://localhost:8080/",
          "height": 269
        },
        "id": "Oqf0XWK9bn99",
        "outputId": "1e72fcb8-7689-42a3-91b9-6e39194f0220"
      },
      "source": [
        "a = -1\n",
        "b = -0.5\n",
        "x = np.arange(a,b,0.01)\n",
        "\n",
        "plt.plot(x,f1(x))\n",
        "\n",
        "plt.grid()\n",
        "plt.show()"
      ],
      "execution_count": 3,
      "outputs": [
        {
          "output_type": "display_data",
          "data": {
            "image/png": "[encoded data removed]",
            "text/plain": [
              "<Figure size 432x288 with 1 Axes>"
            ]
          },
          "metadata": {
            "tags": [],
            "needs_background": "light"
          }
        }
      ]
    },
    {
      "cell_type": "markdown",
      "metadata": {
        "id": "D7tm2zikcX51"
      },
      "source": [
        "**b)** Implemente e aplique o método da Bisseção."
      ]
    },
    {
      "cell_type": "code",
      "metadata": {
        "colab": {
          "base_uri": "https://localhost:8080/"
        },
        "id": "ruvAjEV5cfs_",
        "outputId": "d2769c43-abb6-46d6-a336-39a0e5690b95"
      },
      "source": [
        "def bissecao(f,a,b,emax,kmax=float('inf')):\n",
        "    \"\"\"\n",
        "    Utiliza o metodo da Bisseção para achar a raiz de uma função (f) em um intervalo [a,b],\n",
        "    até que a precisão máxima (emax) ou um número máximo de iterações (kmax - opcional) seja alcançado.\n",
        "    \n",
        "    Retorna a raiz encontrada e o número de iterações.\n",
        "    \"\"\"\n",
        "    k=0\n",
        "    erro = float('inf')\n",
        "    x=None\n",
        "    while k<kmax and abs(erro)>emax:\n",
        "        x = (a+b)/2\n",
        "        #colocando o número pra 8 algarismos signficativos:\n",
        "        x = float(f'{x:.8}')\n",
        "        if f(a)*f(x)<0:\n",
        "            b = x\n",
        "        else:\n",
        "            a = x\n",
        "        erro = f(x)\n",
        "        k+=1\n",
        "    return x,k\n",
        "\n",
        "x,k=bissecao(f1,a,b,0.000001)\n",
        "print(f'x = {x}')\n",
        "print(f'iterações = {k}')"
      ],
      "execution_count": 4,
      "outputs": [
        {
          "output_type": "stream",
          "text": [
            "x = -0.86547376\n",
            "iterações = 19\n"
          ],
          "name": "stdout"
        }
      ]
    },
    {
      "cell_type": "markdown",
      "metadata": {
        "id": "zvsWuf8WcrOg"
      },
      "source": [
        "**c)** Implemente e aplique o método da Falsa posição."
      ]
    },
    {
      "cell_type": "code",
      "metadata": {
        "colab": {
          "base_uri": "https://localhost:8080/"
        },
        "id": "RWVz1znQcq1g",
        "outputId": "d7713b77-2614-4596-e8da-47eb5626f7fc"
      },
      "source": [
        "def falsa_posicao(f,a,b,emax,kmax=float('inf')):\n",
        "    \"\"\"\n",
        "    Utiliza o metodo da Falsa Posição para achar a raiz de uma função (f) em um intervalo [a,b],\n",
        "    até que a precisão máxima (emax) ou um número máximo de iterações (kmax - opcional) seja alcançado.\n",
        "    \n",
        "    Retorna a raiz encontrada e o número de iterações.\n",
        "    \"\"\"\n",
        "    k=0\n",
        "    erro = float('inf')\n",
        "    x=None\n",
        "    while k<kmax and abs(erro)>emax:\n",
        "        x = (a*f(b)-b*f(a))/(f(b)-f(a))\n",
        "        #colocando o número pra 8 algarismos signficativos:\n",
        "        x = float(f'{x:.8}')\n",
        "        if f(a)*f(x)<0:\n",
        "            b = x\n",
        "        else:\n",
        "            a = x\n",
        "        erro = f(x)\n",
        "        k+=1\n",
        "    return x,k\n",
        "\n",
        "x,k=falsa_posicao(f1,a,b,0.000001)\n",
        "print(f'x = {x}')\n",
        "print(f'iterações = {k}')"
      ],
      "execution_count": null,
      "outputs": [
        {
          "output_type": "stream",
          "text": [
            "x = -0.86547387\n",
            "iterações = 7\n"
          ],
          "name": "stdout"
        }
      ]
    },
    {
      "cell_type": "markdown",
      "metadata": {
        "id": "jTeRGwYTc16W"
      },
      "source": [
        "**d)** Compare o número de iterações que cada método precisou para\n",
        "encontrar a raiz."
      ]
    },
    {
      "cell_type": "markdown",
      "metadata": {
        "id": "9-Hg2uoXc8tE"
      },
      "source": [
        "Os dois métodos são bem parecidos, apenas havendo diferença na fórmula para calcular o $x_k$. O método da Falsa Posição era esperado de ser melhor do que o da Bisseção, na maioria dos casos, e os números de iterações comprovam isso, em que houve o da Bisseção precisou de 19 iterações e o da Falsa Posição de 7 para que o erro seja menor que $10^{-6}$, havendo uma diferença de 12 iterações."
      ]
    },
    {
      "cell_type": "markdown",
      "metadata": {
        "id": "TbIMMcs-c94P"
      },
      "source": [
        "**2)** Encontre a menor raiz positiva de f(x) = $\\frac{x}{2}$ + tan(x) tomando $x_0$ = 1 e um erro $|f(x_k)|$ < 0.000001, ou seja, *e* = $10^{−6}$. Aproxime, a cada iteração, os resultados para 8 dígitos significativos:"
      ]
    },
    {
      "cell_type": "markdown",
      "metadata": {
        "id": "bkGAWYx_eBiE"
      },
      "source": [
        "A função e sua derivada:"
      ]
    },
    {
      "cell_type": "code",
      "metadata": {
        "id": "0ocgF9XWeEJM"
      },
      "source": [
        "def f2(x):\n",
        "    return x/2 + np.tan(x)\n",
        "\n",
        "def df2(x):\n",
        "    return 1/2 + (1/np.cos(x))**2"
      ],
      "execution_count": 5,
      "outputs": []
    },
    {
      "cell_type": "markdown",
      "metadata": {
        "id": "_bGnlcu4dpHl"
      },
      "source": [
        "**a)** Implemente e aplique o método de Newton."
      ]
    },
    {
      "cell_type": "markdown",
      "metadata": {
        "id": "jFsSYYHYeUzm"
      },
      "source": [
        "**OBS:** está convergindo para a raiz x = 0 pois o $x_0$ dado é 1, e é muito baixo. Para convergir para a menor raiz positiva mesmo (2.2889296) basta usar $x_0$ = 2."
      ]
    },
    {
      "cell_type": "code",
      "metadata": {
        "colab": {
          "base_uri": "https://localhost:8080/"
        },
        "id": "MSazBNAvdw11",
        "outputId": "15bbb007-e16e-4783-8798-a8c9bd161830"
      },
      "source": [
        "def newton(f,df,x,emax,kmax=float('inf')):\n",
        "    \"\"\"\n",
        "    Utiliza o metodo de Newton para achar a raiz de uma função (f) e de sua derivada (df), dado valor inicial (xo)\n",
        "    até que a precisão máxima (emax) ou um número máximo de iterações (kmax - opcional) seja alcançado.\n",
        "    \n",
        "    Retorna a raiz encontrada e o número de iterações.\n",
        "    \"\"\"\n",
        "    k=1\n",
        "    erro = float('inf')\n",
        "    while k<kmax and abs(erro)>emax:\n",
        "        x = x - (f(x)/df(x))\n",
        "        #colocando o número pra 8 algarismos signficativos:\n",
        "        x = float(f'{x:.8}')\n",
        "        erro = f(x)\n",
        "        k+=1\n",
        "    return x,k-1\n",
        "\n",
        "x,k=newton(f2,df2,1,0.000001)\n",
        "print(f'x = {x}')\n",
        "print(f'iterações = {k}')"
      ],
      "execution_count": 6,
      "outputs": [
        {
          "output_type": "stream",
          "text": [
            "x = 6.6215927e-14\n",
            "iterações = 4\n"
          ],
          "name": "stdout"
        }
      ]
    },
    {
      "cell_type": "markdown",
      "metadata": {
        "id": "UUh2sKFWdxNk"
      },
      "source": [
        "**b)** Implemente e aplique o método das Secantes."
      ]
    },
    {
      "cell_type": "markdown",
      "metadata": {
        "id": "Pug1FD7Me6C1"
      },
      "source": [
        "**OBS:** está convergindo para a raiz x = 0 pois o $x_0$ dado é 1, e é muito baixo. Para convergir para a menor raiz positiva mesmo (2.2889296) basta usar $x_0$ = 2 e $x_1$ = 2.1."
      ]
    },
    {
      "cell_type": "code",
      "metadata": {
        "colab": {
          "base_uri": "https://localhost:8080/"
        },
        "id": "hXxaMfF8d3Ys",
        "outputId": "72f4b3c7-bf9c-4540-a16d-bab8f40e8e65"
      },
      "source": [
        "def secante(f,x0,x1,emax,kmax=float('inf')):\n",
        "    \"\"\"\n",
        "    Utiliza o metodo da Secante para achar a raiz de uma função (f), dados 2 valores iniciais (xo e x1)\n",
        "    até que a precisão máxima (emax) ou um número máximo de iterações (kmax - opcional) seja alcançado.\n",
        "    \n",
        "    Retorna a raiz encontrada e o número de iterações.\n",
        "    \"\"\"\n",
        "    k=2\n",
        "    erro = float('inf')\n",
        "    while k<kmax and abs(erro)>emax:\n",
        "        d= (f(x1)-f(x0))/(x1-x0)\n",
        "        x = x1 - f(x1)/d\n",
        "        #colocando o número pra 8 algarismos signficativos:\n",
        "        x = float(f'{x:.8}')\n",
        "        x0=x1\n",
        "        x1=x\n",
        "        erro = f(x)\n",
        "        k+=1\n",
        "    return x,k-2\n",
        "\n",
        "x,k=secante(f2,1,1.1,0.000001)\n",
        "print(f'x = {x}')\n",
        "print(f'iterações = {k}')"
      ],
      "execution_count": 7,
      "outputs": [
        {
          "output_type": "stream",
          "text": [
            "x = 5.615368e-08\n",
            "iterações = 5\n"
          ],
          "name": "stdout"
        }
      ]
    },
    {
      "cell_type": "markdown",
      "metadata": {
        "id": "aKxtruENd3wM"
      },
      "source": [
        "**c)** Compare o número de iterações que cada método precisou para encontrar a raiz.\n",
        "\n"
      ]
    },
    {
      "cell_type": "markdown",
      "metadata": {
        "id": "jVPy-mBPd_qb"
      },
      "source": [
        "O método da Secantes é parecido com o de Newton, mas mais utilizado quando for mais dificil e custoso de calcular a derivada, aproximando-a. O método de Newton tende a convergir mais rápido , pois se usa o valor de fato da derivada, apesar dos dois métodos serem mais rápidos que os demais. O método de Newton precisou de 4 iterações e o da Secante de 5 iterações."
      ]
    }
  ]
}